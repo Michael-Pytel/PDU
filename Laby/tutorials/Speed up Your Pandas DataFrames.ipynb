{
 "cells": [
  {
   "cell_type": "code",
   "execution_count": 1,
   "id": "71594c69",
   "metadata": {},
   "outputs": [],
   "source": [
    "import numpy as np\n",
    "import pandas as pd"
   ]
  },
  {
   "cell_type": "markdown",
   "id": "23497e97",
   "metadata": {},
   "source": [
    "## Eficient Memory use in Python"
   ]
  },
  {
   "cell_type": "markdown",
   "id": "c9d84639",
   "metadata": {},
   "source": [
    "##### Create our data"
   ]
  },
  {
   "cell_type": "code",
   "execution_count": 25,
   "id": "d9447587",
   "metadata": {},
   "outputs": [],
   "source": [
    "def get_dataset(size):\n",
    "    df = pd.DataFrame()\n",
    "    df[\"position\"] = np.random.choice(['left', 'middle', 'right'], size)\n",
    "    df['age'] = np.random.randint(1, 50, size)\n",
    "    df['team'] = np.random.choice(['red', 'blue', 'yellow', 'green'], size)\n",
    "    df['win'] = np.random.choice(['yes', 'no'], size)\n",
    "    df['prob'] = np.random.uniform(0, 1, size)\n",
    "    return df"
   ]
  },
  {
   "cell_type": "code",
   "execution_count": 26,
   "id": "7f6a6a61",
   "metadata": {},
   "outputs": [
    {
     "name": "stdout",
     "output_type": "stream",
     "text": [
      "<class 'pandas.core.frame.DataFrame'>\n",
      "RangeIndex: 1000000 entries, 0 to 999999\n",
      "Data columns (total 5 columns):\n",
      " #   Column    Non-Null Count    Dtype  \n",
      "---  ------    --------------    -----  \n",
      " 0   position  1000000 non-null  object \n",
      " 1   age       1000000 non-null  int32  \n",
      " 2   team      1000000 non-null  object \n",
      " 3   win       1000000 non-null  object \n",
      " 4   prob      1000000 non-null  float64\n",
      "dtypes: float64(1), int32(1), object(3)\n",
      "memory usage: 34.3+ MB\n"
     ]
    }
   ],
   "source": [
    "df = get_dataset(1_000_000)\n",
    "df.info()"
   ]
  },
  {
   "cell_type": "code",
   "execution_count": 31,
   "id": "0e75dfae",
   "metadata": {},
   "outputs": [
    {
     "name": "stdout",
     "output_type": "stream",
     "text": [
      "1.19 s ± 235 ms per loop (mean ± std. dev. of 7 runs, 1 loop each)\n",
      "1.05 s ± 10.3 ms per loop (mean ± std. dev. of 7 runs, 1 loop each)\n",
      "1.18 s ± 6.69 ms per loop (mean ± std. dev. of 7 runs, 1 loop each)\n"
     ]
    }
   ],
   "source": [
    "%timeit df['age_rank'] = df.groupby(['team', 'position'])['age'].rank()\n",
    "%timeit df['prob_rank'] = df.groupby(['team', 'position'])['prob'].rank()\n",
    "%timeit df['win_prob_rank'] = df.groupby(['team', 'position', 'win'])['prob'].rank()"
   ]
  },
  {
   "cell_type": "code",
   "execution_count": 29,
   "id": "03f76cff",
   "metadata": {
    "scrolled": true
   },
   "outputs": [
    {
     "data": {
      "text/html": [
       "<div>\n",
       "<style scoped>\n",
       "    .dataframe tbody tr th:only-of-type {\n",
       "        vertical-align: middle;\n",
       "    }\n",
       "\n",
       "    .dataframe tbody tr th {\n",
       "        vertical-align: top;\n",
       "    }\n",
       "\n",
       "    .dataframe thead th {\n",
       "        text-align: right;\n",
       "    }\n",
       "</style>\n",
       "<table border=\"1\" class=\"dataframe\">\n",
       "  <thead>\n",
       "    <tr style=\"text-align: right;\">\n",
       "      <th></th>\n",
       "      <th>position</th>\n",
       "      <th>age</th>\n",
       "      <th>team</th>\n",
       "      <th>win</th>\n",
       "      <th>prob</th>\n",
       "      <th>age_rank</th>\n",
       "      <th>prob_rank</th>\n",
       "    </tr>\n",
       "  </thead>\n",
       "  <tbody>\n",
       "    <tr>\n",
       "      <th>0</th>\n",
       "      <td>left</td>\n",
       "      <td>42</td>\n",
       "      <td>yellow</td>\n",
       "      <td>no</td>\n",
       "      <td>0.671124</td>\n",
       "      <td>70281.5</td>\n",
       "      <td>55904.0</td>\n",
       "    </tr>\n",
       "    <tr>\n",
       "      <th>1</th>\n",
       "      <td>left</td>\n",
       "      <td>44</td>\n",
       "      <td>blue</td>\n",
       "      <td>no</td>\n",
       "      <td>0.457396</td>\n",
       "      <td>74479.0</td>\n",
       "      <td>38342.0</td>\n",
       "    </tr>\n",
       "    <tr>\n",
       "      <th>2</th>\n",
       "      <td>left</td>\n",
       "      <td>24</td>\n",
       "      <td>red</td>\n",
       "      <td>no</td>\n",
       "      <td>0.996856</td>\n",
       "      <td>40035.0</td>\n",
       "      <td>83267.0</td>\n",
       "    </tr>\n",
       "    <tr>\n",
       "      <th>3</th>\n",
       "      <td>left</td>\n",
       "      <td>35</td>\n",
       "      <td>yellow</td>\n",
       "      <td>no</td>\n",
       "      <td>0.628515</td>\n",
       "      <td>58436.5</td>\n",
       "      <td>52346.0</td>\n",
       "    </tr>\n",
       "    <tr>\n",
       "      <th>4</th>\n",
       "      <td>middle</td>\n",
       "      <td>9</td>\n",
       "      <td>yellow</td>\n",
       "      <td>yes</td>\n",
       "      <td>0.742326</td>\n",
       "      <td>14404.5</td>\n",
       "      <td>62056.0</td>\n",
       "    </tr>\n",
       "  </tbody>\n",
       "</table>\n",
       "</div>"
      ],
      "text/plain": [
       "  position  age    team  win      prob  age_rank  prob_rank\n",
       "0     left   42  yellow   no  0.671124   70281.5    55904.0\n",
       "1     left   44    blue   no  0.457396   74479.0    38342.0\n",
       "2     left   24     red   no  0.996856   40035.0    83267.0\n",
       "3     left   35  yellow   no  0.628515   58436.5    52346.0\n",
       "4   middle    9  yellow  yes  0.742326   14404.5    62056.0"
      ]
     },
     "execution_count": 29,
     "metadata": {},
     "output_type": "execute_result"
    }
   ],
   "source": [
    "df.head()"
   ]
  },
  {
   "cell_type": "markdown",
   "id": "9ec0d614",
   "metadata": {},
   "source": [
    "#### Making it more efficient by changing the data type of positions from string to categorical"
   ]
  },
  {
   "cell_type": "code",
   "execution_count": 36,
   "id": "22733abe",
   "metadata": {},
   "outputs": [
    {
     "name": "stdout",
     "output_type": "stream",
     "text": [
      "<class 'pandas.core.frame.DataFrame'>\n",
      "RangeIndex: 1000000 entries, 0 to 999999\n",
      "Data columns (total 5 columns):\n",
      " #   Column    Non-Null Count    Dtype   \n",
      "---  ------    --------------    -----   \n",
      " 0   position  1000000 non-null  category\n",
      " 1   age       1000000 non-null  int32   \n",
      " 2   team      1000000 non-null  category\n",
      " 3   win       1000000 non-null  object  \n",
      " 4   prob      1000000 non-null  float64 \n",
      "dtypes: category(2), float64(1), int32(1), object(1)\n",
      "memory usage: 21.0+ MB\n"
     ]
    }
   ],
   "source": [
    "df = get_dataset(1_000_000)\n",
    "df['position'] = df['position'].astype('category')\n",
    "df['team'] = df['team'].astype('category')\n",
    "df.info()"
   ]
  },
  {
   "cell_type": "code",
   "execution_count": 38,
   "id": "0594aa4a",
   "metadata": {},
   "outputs": [
    {
     "data": {
      "text/plain": [
       "49"
      ]
     },
     "execution_count": 38,
     "metadata": {},
     "output_type": "execute_result"
    }
   ],
   "source": [
    "df['age'].max()"
   ]
  },
  {
   "cell_type": "markdown",
   "id": "c476366d",
   "metadata": {},
   "source": [
    "### Downcasting Ints "
   ]
  },
  {
   "cell_type": "code",
   "execution_count": 41,
   "id": "a0aee2d1",
   "metadata": {},
   "outputs": [],
   "source": [
    "df['age'] = df['age'].astype('int8')"
   ]
  },
  {
   "cell_type": "code",
   "execution_count": 42,
   "id": "2f0c5fc3",
   "metadata": {},
   "outputs": [
    {
     "name": "stdout",
     "output_type": "stream",
     "text": [
      "<class 'pandas.core.frame.DataFrame'>\n",
      "RangeIndex: 1000000 entries, 0 to 999999\n",
      "Data columns (total 5 columns):\n",
      " #   Column    Non-Null Count    Dtype   \n",
      "---  ------    --------------    -----   \n",
      " 0   position  1000000 non-null  category\n",
      " 1   age       1000000 non-null  int8    \n",
      " 2   team      1000000 non-null  category\n",
      " 3   win       1000000 non-null  object  \n",
      " 4   prob      1000000 non-null  float64 \n",
      "dtypes: category(2), float64(1), int8(1), object(1)\n",
      "memory usage: 18.1+ MB\n"
     ]
    }
   ],
   "source": [
    "df.info()"
   ]
  },
  {
   "cell_type": "code",
   "execution_count": 53,
   "id": "e44b79ab",
   "metadata": {},
   "outputs": [],
   "source": [
    "df['prob'] = df['prob'].astype(\"float32\")"
   ]
  },
  {
   "cell_type": "code",
   "execution_count": 54,
   "id": "e48636e1",
   "metadata": {},
   "outputs": [
    {
     "name": "stdout",
     "output_type": "stream",
     "text": [
      "<class 'pandas.core.frame.DataFrame'>\n",
      "RangeIndex: 1000000 entries, 0 to 999999\n",
      "Data columns (total 5 columns):\n",
      " #   Column    Non-Null Count    Dtype   \n",
      "---  ------    --------------    -----   \n",
      " 0   position  1000000 non-null  category\n",
      " 1   age       1000000 non-null  int8    \n",
      " 2   team      1000000 non-null  category\n",
      " 3   win       1000000 non-null  object  \n",
      " 4   prob      1000000 non-null  float32 \n",
      "dtypes: category(2), float32(1), int8(1), object(1)\n",
      "memory usage: 14.3+ MB\n"
     ]
    }
   ],
   "source": [
    "df.info()"
   ]
  },
  {
   "cell_type": "markdown",
   "id": "85eef56a",
   "metadata": {},
   "source": [
    "### Casting bool (true/false)"
   ]
  },
  {
   "cell_type": "code",
   "execution_count": 55,
   "id": "ec158908",
   "metadata": {},
   "outputs": [],
   "source": [
    "df['win'] = df['win'].map({'yes': True, 'no': False})"
   ]
  },
  {
   "cell_type": "code",
   "execution_count": 56,
   "id": "e3acefba",
   "metadata": {},
   "outputs": [
    {
     "name": "stdout",
     "output_type": "stream",
     "text": [
      "<class 'pandas.core.frame.DataFrame'>\n",
      "RangeIndex: 1000000 entries, 0 to 999999\n",
      "Data columns (total 5 columns):\n",
      " #   Column    Non-Null Count    Dtype   \n",
      "---  ------    --------------    -----   \n",
      " 0   position  1000000 non-null  category\n",
      " 1   age       1000000 non-null  int8    \n",
      " 2   team      1000000 non-null  category\n",
      " 3   win       1000000 non-null  bool    \n",
      " 4   prob      1000000 non-null  float32 \n",
      "dtypes: bool(1), category(2), float32(1), int8(1)\n",
      "memory usage: 7.6 MB\n"
     ]
    }
   ],
   "source": [
    "df.info()"
   ]
  },
  {
   "cell_type": "code",
   "execution_count": 60,
   "id": "5e90c62f",
   "metadata": {},
   "outputs": [],
   "source": [
    "def set_dtypes(df):\n",
    "    df['position'] = df['position'].astype('category')\n",
    "    df['team'] = df['team'].astype('category')\n",
    "    df['prob'] = df['prob'].astype(\"float32\")\n",
    "    df['win'] = df['win'].map({'yes': True, 'no': False})\n",
    "    return df;"
   ]
  },
  {
   "cell_type": "code",
   "execution_count": 58,
   "id": "b92c66d2",
   "metadata": {},
   "outputs": [
    {
     "name": "stdout",
     "output_type": "stream",
     "text": [
      "939 ms ± 11.6 ms per loop (mean ± std. dev. of 7 runs, 1 loop each)\n",
      "1.09 s ± 192 ms per loop (mean ± std. dev. of 7 runs, 1 loop each)\n",
      "1.09 s ± 40.4 ms per loop (mean ± std. dev. of 7 runs, 1 loop each)\n",
      "<class 'pandas.core.frame.DataFrame'>\n",
      "RangeIndex: 1000000 entries, 0 to 999999\n",
      "Data columns (total 8 columns):\n",
      " #   Column         Non-Null Count    Dtype  \n",
      "---  ------         --------------    -----  \n",
      " 0   position       1000000 non-null  object \n",
      " 1   age            1000000 non-null  int32  \n",
      " 2   team           1000000 non-null  object \n",
      " 3   win            1000000 non-null  object \n",
      " 4   prob           1000000 non-null  float64\n",
      " 5   age_rank       1000000 non-null  float64\n",
      " 6   prob_rank      1000000 non-null  float64\n",
      " 7   win_prob_rank  1000000 non-null  float64\n",
      "dtypes: float64(4), int32(1), object(3)\n",
      "memory usage: 57.2+ MB\n"
     ]
    }
   ],
   "source": [
    "df = get_dataset(1_000_000)\n",
    "%timeit df['age_rank'] = df.groupby(['team', 'position'])['age'].rank()\n",
    "%timeit df['prob_rank'] = df.groupby(['team', 'position'])['prob'].rank()\n",
    "%timeit df['win_prob_rank'] = df.groupby(['team', 'position', 'win'])['prob'].rank()\n",
    "df.info()"
   ]
  },
  {
   "cell_type": "code",
   "execution_count": 61,
   "id": "9f2762bc",
   "metadata": {},
   "outputs": [
    {
     "name": "stdout",
     "output_type": "stream",
     "text": [
      "761 ms ± 6.89 ms per loop (mean ± std. dev. of 7 runs, 1 loop each)\n",
      "789 ms ± 8.51 ms per loop (mean ± std. dev. of 7 runs, 1 loop each)\n",
      "926 ms ± 75.9 ms per loop (mean ± std. dev. of 7 runs, 1 loop each)\n",
      "<class 'pandas.core.frame.DataFrame'>\n",
      "RangeIndex: 1000000 entries, 0 to 999999\n",
      "Data columns (total 8 columns):\n",
      " #   Column         Non-Null Count    Dtype   \n",
      "---  ------         --------------    -----   \n",
      " 0   position       1000000 non-null  category\n",
      " 1   age            1000000 non-null  int32   \n",
      " 2   team           1000000 non-null  category\n",
      " 3   win            1000000 non-null  bool    \n",
      " 4   prob           1000000 non-null  float32 \n",
      " 5   age_rank       1000000 non-null  float64 \n",
      " 6   prob_rank      1000000 non-null  float64 \n",
      " 7   win_prob_rank  1000000 non-null  float64 \n",
      "dtypes: bool(1), category(2), float32(1), float64(3), int32(1)\n",
      "memory usage: 33.4 MB\n"
     ]
    }
   ],
   "source": [
    "df = get_dataset(1_000_000)\n",
    "df = set_dtypes(df)\n",
    "%timeit df['age_rank'] = df.groupby(['team', 'position'])['age'].rank()\n",
    "%timeit df['prob_rank'] = df.groupby(['team', 'position'])['prob'].rank()\n",
    "%timeit df['win_prob_rank'] = df.groupby(['team', 'position', 'win'])['prob'].rank()\n",
    "df.info()"
   ]
  },
  {
   "cell_type": "markdown",
   "id": "4e01e58c",
   "metadata": {},
   "source": [
    "## Larger Data"
   ]
  },
  {
   "cell_type": "code",
   "execution_count": 63,
   "id": "8a4331da",
   "metadata": {},
   "outputs": [
    {
     "name": "stdout",
     "output_type": "stream",
     "text": [
      "12.3 s ± 126 ms per loop (mean ± std. dev. of 7 runs, 1 loop each)\n",
      "12.5 s ± 40.2 ms per loop (mean ± std. dev. of 7 runs, 1 loop each)\n",
      "13.5 s ± 185 ms per loop (mean ± std. dev. of 7 runs, 1 loop each)\n",
      "<class 'pandas.core.frame.DataFrame'>\n",
      "RangeIndex: 10000000 entries, 0 to 9999999\n",
      "Data columns (total 8 columns):\n",
      " #   Column         Dtype   \n",
      "---  ------         -----   \n",
      " 0   position       category\n",
      " 1   age            int32   \n",
      " 2   team           category\n",
      " 3   win            bool    \n",
      " 4   prob           float32 \n",
      " 5   age_rank       float64 \n",
      " 6   prob_rank      float64 \n",
      " 7   win_prob_rank  float64 \n",
      "dtypes: bool(1), category(2), float32(1), float64(3), int32(1)\n",
      "memory usage: 333.8 MB\n"
     ]
    }
   ],
   "source": [
    "df = get_dataset(10_000_000)\n",
    "df = set_dtypes(df)\n",
    "%timeit df['age_rank'] = df.groupby(['team', 'position'])['age'].rank()\n",
    "%timeit df['prob_rank'] = df.groupby(['team', 'position'])['prob'].rank()\n",
    "%timeit df['win_prob_rank'] = df.groupby(['team', 'position', 'win'])['prob'].rank()\n",
    "df.info()"
   ]
  },
  {
   "cell_type": "code",
   "execution_count": null,
   "id": "51c57c9f",
   "metadata": {},
   "outputs": [],
   "source": [
    "df = get_dataset(10_000_000)\n",
    "%timeit df['age_rank'] = df.groupby(['team', 'position'])['age'].rank()\n",
    "%timeit df['prob_rank'] = df.groupby(['team', 'position'])['prob'].rank()\n",
    "%timeit df['win_prob_rank'] = df.groupby(['team', 'position', 'win'])['prob'].rank()\n",
    "df.info()"
   ]
  }
 ],
 "metadata": {
  "kernelspec": {
   "display_name": "Python 3 (ipykernel)",
   "language": "python",
   "name": "python3"
  },
  "language_info": {
   "codemirror_mode": {
    "name": "ipython",
    "version": 3
   },
   "file_extension": ".py",
   "mimetype": "text/x-python",
   "name": "python",
   "nbconvert_exporter": "python",
   "pygments_lexer": "ipython3",
   "version": "3.9.12"
  }
 },
 "nbformat": 4,
 "nbformat_minor": 5
}
